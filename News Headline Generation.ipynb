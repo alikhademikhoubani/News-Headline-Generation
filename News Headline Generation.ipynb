{
 "cells": [
  {
   "cell_type": "code",
   "execution_count": 349,
   "id": "6079f70b",
   "metadata": {},
   "outputs": [],
   "source": [
    "import re\n",
    "from nltk.corpus import stopwords\n",
    "import pandas as pd\n",
    "from collections import Counter\n",
    "import spacy\n",
    "from heapq import nlargest\n",
    "import spacy\n",
    "from transformers import pipeline"
   ]
  },
  {
   "cell_type": "code",
   "execution_count": 290,
   "id": "9fbe8ddf",
   "metadata": {},
   "outputs": [
    {
     "data": {
      "text/html": [
       "<div>\n",
       "<style scoped>\n",
       "    .dataframe tbody tr th:only-of-type {\n",
       "        vertical-align: middle;\n",
       "    }\n",
       "\n",
       "    .dataframe tbody tr th {\n",
       "        vertical-align: top;\n",
       "    }\n",
       "\n",
       "    .dataframe thead th {\n",
       "        text-align: right;\n",
       "    }\n",
       "</style>\n",
       "<table border=\"1\" class=\"dataframe\">\n",
       "  <thead>\n",
       "    <tr style=\"text-align: right;\">\n",
       "      <th></th>\n",
       "      <th>headlines</th>\n",
       "      <th>text</th>\n",
       "    </tr>\n",
       "  </thead>\n",
       "  <tbody>\n",
       "    <tr>\n",
       "      <th>0</th>\n",
       "      <td>upGrad learner switches to career in ML &amp; Al w...</td>\n",
       "      <td>Saurav Kant, an alumnus of upGrad and IIIT-B's...</td>\n",
       "    </tr>\n",
       "    <tr>\n",
       "      <th>1</th>\n",
       "      <td>Delhi techie wins free food from Swiggy for on...</td>\n",
       "      <td>Kunal Shah's credit card bill payment platform...</td>\n",
       "    </tr>\n",
       "    <tr>\n",
       "      <th>2</th>\n",
       "      <td>New Zealand end Rohit Sharma-led India's 12-ma...</td>\n",
       "      <td>New Zealand defeated India by 8 wickets in the...</td>\n",
       "    </tr>\n",
       "    <tr>\n",
       "      <th>3</th>\n",
       "      <td>Aegon life iTerm insurance plan helps customer...</td>\n",
       "      <td>With Aegon Life iTerm Insurance plan, customer...</td>\n",
       "    </tr>\n",
       "    <tr>\n",
       "      <th>4</th>\n",
       "      <td>Have known Hirani for yrs, what if MeToo claim...</td>\n",
       "      <td>Speaking about the sexual harassment allegatio...</td>\n",
       "    </tr>\n",
       "  </tbody>\n",
       "</table>\n",
       "</div>"
      ],
      "text/plain": [
       "                                           headlines  \\\n",
       "0  upGrad learner switches to career in ML & Al w...   \n",
       "1  Delhi techie wins free food from Swiggy for on...   \n",
       "2  New Zealand end Rohit Sharma-led India's 12-ma...   \n",
       "3  Aegon life iTerm insurance plan helps customer...   \n",
       "4  Have known Hirani for yrs, what if MeToo claim...   \n",
       "\n",
       "                                                text  \n",
       "0  Saurav Kant, an alumnus of upGrad and IIIT-B's...  \n",
       "1  Kunal Shah's credit card bill payment platform...  \n",
       "2  New Zealand defeated India by 8 wickets in the...  \n",
       "3  With Aegon Life iTerm Insurance plan, customer...  \n",
       "4  Speaking about the sexual harassment allegatio...  "
      ]
     },
     "execution_count": 290,
     "metadata": {},
     "output_type": "execute_result"
    }
   ],
   "source": [
    "df = pd.read_csv('news_summary_more.csv')\n",
    "df.head()"
   ]
  },
  {
   "cell_type": "code",
   "execution_count": 291,
   "id": "e2e9aa07",
   "metadata": {},
   "outputs": [
    {
     "data": {
      "text/plain": [
       "(98401, 2)"
      ]
     },
     "execution_count": 291,
     "metadata": {},
     "output_type": "execute_result"
    }
   ],
   "source": [
    "df.shape"
   ]
  },
  {
   "cell_type": "code",
   "execution_count": 292,
   "id": "4524d629",
   "metadata": {},
   "outputs": [
    {
     "name": "stdout",
     "output_type": "stream",
     "text": [
      "<class 'pandas.core.frame.DataFrame'>\n",
      "RangeIndex: 98401 entries, 0 to 98400\n",
      "Data columns (total 2 columns):\n",
      " #   Column     Non-Null Count  Dtype \n",
      "---  ------     --------------  ----- \n",
      " 0   headlines  98401 non-null  object\n",
      " 1   text       98401 non-null  object\n",
      "dtypes: object(2)\n",
      "memory usage: 1.5+ MB\n"
     ]
    }
   ],
   "source": [
    "df.info()"
   ]
  },
  {
   "cell_type": "code",
   "execution_count": 293,
   "id": "99e6901a",
   "metadata": {},
   "outputs": [
    {
     "data": {
      "text/plain": [
       "headlines    0\n",
       "text         0\n",
       "dtype: int64"
      ]
     },
     "execution_count": 293,
     "metadata": {},
     "output_type": "execute_result"
    }
   ],
   "source": [
    "df.isnull().sum()"
   ]
  },
  {
   "cell_type": "code",
   "execution_count": 294,
   "id": "2d12340b",
   "metadata": {},
   "outputs": [
    {
     "data": {
      "text/plain": [
       "(98401, 2)"
      ]
     },
     "execution_count": 294,
     "metadata": {},
     "output_type": "execute_result"
    }
   ],
   "source": [
    "df.shape"
   ]
  },
  {
   "cell_type": "code",
   "execution_count": 295,
   "id": "d0319211",
   "metadata": {},
   "outputs": [],
   "source": [
    "df.drop(columns = ['headlines'], axis = 1, inplace = True)"
   ]
  },
  {
   "cell_type": "code",
   "execution_count": 296,
   "id": "d337072d",
   "metadata": {},
   "outputs": [
    {
     "data": {
      "text/html": [
       "<div>\n",
       "<style scoped>\n",
       "    .dataframe tbody tr th:only-of-type {\n",
       "        vertical-align: middle;\n",
       "    }\n",
       "\n",
       "    .dataframe tbody tr th {\n",
       "        vertical-align: top;\n",
       "    }\n",
       "\n",
       "    .dataframe thead th {\n",
       "        text-align: right;\n",
       "    }\n",
       "</style>\n",
       "<table border=\"1\" class=\"dataframe\">\n",
       "  <thead>\n",
       "    <tr style=\"text-align: right;\">\n",
       "      <th></th>\n",
       "      <th>text</th>\n",
       "    </tr>\n",
       "  </thead>\n",
       "  <tbody>\n",
       "    <tr>\n",
       "      <th>0</th>\n",
       "      <td>Saurav Kant, an alumnus of upGrad and IIIT-B's...</td>\n",
       "    </tr>\n",
       "    <tr>\n",
       "      <th>1</th>\n",
       "      <td>Kunal Shah's credit card bill payment platform...</td>\n",
       "    </tr>\n",
       "    <tr>\n",
       "      <th>2</th>\n",
       "      <td>New Zealand defeated India by 8 wickets in the...</td>\n",
       "    </tr>\n",
       "    <tr>\n",
       "      <th>3</th>\n",
       "      <td>With Aegon Life iTerm Insurance plan, customer...</td>\n",
       "    </tr>\n",
       "    <tr>\n",
       "      <th>4</th>\n",
       "      <td>Speaking about the sexual harassment allegatio...</td>\n",
       "    </tr>\n",
       "  </tbody>\n",
       "</table>\n",
       "</div>"
      ],
      "text/plain": [
       "                                                text\n",
       "0  Saurav Kant, an alumnus of upGrad and IIIT-B's...\n",
       "1  Kunal Shah's credit card bill payment platform...\n",
       "2  New Zealand defeated India by 8 wickets in the...\n",
       "3  With Aegon Life iTerm Insurance plan, customer...\n",
       "4  Speaking about the sexual harassment allegatio..."
      ]
     },
     "execution_count": 296,
     "metadata": {},
     "output_type": "execute_result"
    }
   ],
   "source": [
    "df.head()"
   ]
  },
  {
   "cell_type": "code",
   "execution_count": 297,
   "id": "578b0671",
   "metadata": {},
   "outputs": [],
   "source": [
    "sw = stopwords.words('english')"
   ]
  },
  {
   "cell_type": "code",
   "execution_count": 298,
   "id": "9f84d4ba",
   "metadata": {},
   "outputs": [],
   "source": [
    "def text_preprocessing(text):\n",
    "    text = text.lower()\n",
    "    text = re.sub('[^a-z]', ' ', text)\n",
    "    text = re.sub('\\s+[a-z]\\s+',' ', text)\n",
    "    text = re.sub('\\s+', ' ', text)\n",
    "    words = [word for word in text.split() if word not in sw]\n",
    "    return words"
   ]
  },
  {
   "cell_type": "code",
   "execution_count": 299,
   "id": "0589f2a7",
   "metadata": {},
   "outputs": [],
   "source": [
    "df['words'] = df['text'].apply(text_preprocessing)"
   ]
  },
  {
   "cell_type": "code",
   "execution_count": 300,
   "id": "172cd9d0",
   "metadata": {},
   "outputs": [
    {
     "data": {
      "text/html": [
       "<div>\n",
       "<style scoped>\n",
       "    .dataframe tbody tr th:only-of-type {\n",
       "        vertical-align: middle;\n",
       "    }\n",
       "\n",
       "    .dataframe tbody tr th {\n",
       "        vertical-align: top;\n",
       "    }\n",
       "\n",
       "    .dataframe thead th {\n",
       "        text-align: right;\n",
       "    }\n",
       "</style>\n",
       "<table border=\"1\" class=\"dataframe\">\n",
       "  <thead>\n",
       "    <tr style=\"text-align: right;\">\n",
       "      <th></th>\n",
       "      <th>text</th>\n",
       "      <th>words</th>\n",
       "    </tr>\n",
       "  </thead>\n",
       "  <tbody>\n",
       "    <tr>\n",
       "      <th>0</th>\n",
       "      <td>Saurav Kant, an alumnus of upGrad and IIIT-B's...</td>\n",
       "      <td>[saurav, kant, alumnus, upgrad, iiit, pg, prog...</td>\n",
       "    </tr>\n",
       "    <tr>\n",
       "      <th>1</th>\n",
       "      <td>Kunal Shah's credit card bill payment platform...</td>\n",
       "      <td>[kunal, shah, credit, card, bill, payment, pla...</td>\n",
       "    </tr>\n",
       "    <tr>\n",
       "      <th>2</th>\n",
       "      <td>New Zealand defeated India by 8 wickets in the...</td>\n",
       "      <td>[new, zealand, defeated, india, wickets, fourt...</td>\n",
       "    </tr>\n",
       "    <tr>\n",
       "      <th>3</th>\n",
       "      <td>With Aegon Life iTerm Insurance plan, customer...</td>\n",
       "      <td>[aegon, life, iterm, insurance, plan, customer...</td>\n",
       "    </tr>\n",
       "    <tr>\n",
       "      <th>4</th>\n",
       "      <td>Speaking about the sexual harassment allegatio...</td>\n",
       "      <td>[speaking, sexual, harassment, allegations, ra...</td>\n",
       "    </tr>\n",
       "  </tbody>\n",
       "</table>\n",
       "</div>"
      ],
      "text/plain": [
       "                                                text  \\\n",
       "0  Saurav Kant, an alumnus of upGrad and IIIT-B's...   \n",
       "1  Kunal Shah's credit card bill payment platform...   \n",
       "2  New Zealand defeated India by 8 wickets in the...   \n",
       "3  With Aegon Life iTerm Insurance plan, customer...   \n",
       "4  Speaking about the sexual harassment allegatio...   \n",
       "\n",
       "                                               words  \n",
       "0  [saurav, kant, alumnus, upgrad, iiit, pg, prog...  \n",
       "1  [kunal, shah, credit, card, bill, payment, pla...  \n",
       "2  [new, zealand, defeated, india, wickets, fourt...  \n",
       "3  [aegon, life, iterm, insurance, plan, customer...  \n",
       "4  [speaking, sexual, harassment, allegations, ra...  "
      ]
     },
     "execution_count": 300,
     "metadata": {},
     "output_type": "execute_result"
    }
   ],
   "source": [
    "df.head()"
   ]
  },
  {
   "cell_type": "code",
   "execution_count": 301,
   "id": "cac6966f",
   "metadata": {},
   "outputs": [],
   "source": [
    "def summarizing1(words):\n",
    "    word_freq = Counter(words)\n",
    "    return word_freq"
   ]
  },
  {
   "cell_type": "code",
   "execution_count": 302,
   "id": "b371d6c8",
   "metadata": {},
   "outputs": [],
   "source": [
    "df['word_freq'] = df['words'].apply(summarizing1)"
   ]
  },
  {
   "cell_type": "code",
   "execution_count": 303,
   "id": "7c7e2aff",
   "metadata": {},
   "outputs": [
    {
     "data": {
      "text/html": [
       "<div>\n",
       "<style scoped>\n",
       "    .dataframe tbody tr th:only-of-type {\n",
       "        vertical-align: middle;\n",
       "    }\n",
       "\n",
       "    .dataframe tbody tr th {\n",
       "        vertical-align: top;\n",
       "    }\n",
       "\n",
       "    .dataframe thead th {\n",
       "        text-align: right;\n",
       "    }\n",
       "</style>\n",
       "<table border=\"1\" class=\"dataframe\">\n",
       "  <thead>\n",
       "    <tr style=\"text-align: right;\">\n",
       "      <th></th>\n",
       "      <th>text</th>\n",
       "      <th>words</th>\n",
       "      <th>word_freq</th>\n",
       "    </tr>\n",
       "  </thead>\n",
       "  <tbody>\n",
       "    <tr>\n",
       "      <th>0</th>\n",
       "      <td>Saurav Kant, an alumnus of upGrad and IIIT-B's...</td>\n",
       "      <td>[saurav, kant, alumnus, upgrad, iiit, pg, prog...</td>\n",
       "      <td>{'saurav': 1, 'kant': 1, 'alumnus': 1, 'upgrad...</td>\n",
       "    </tr>\n",
       "    <tr>\n",
       "      <th>1</th>\n",
       "      <td>Kunal Shah's credit card bill payment platform...</td>\n",
       "      <td>[kunal, shah, credit, card, bill, payment, pla...</td>\n",
       "      <td>{'kunal': 1, 'shah': 1, 'credit': 1, 'card': 1...</td>\n",
       "    </tr>\n",
       "    <tr>\n",
       "      <th>2</th>\n",
       "      <td>New Zealand defeated India by 8 wickets in the...</td>\n",
       "      <td>[new, zealand, defeated, india, wickets, fourt...</td>\n",
       "      <td>{'new': 1, 'zealand': 1, 'defeated': 1, 'india...</td>\n",
       "    </tr>\n",
       "    <tr>\n",
       "      <th>3</th>\n",
       "      <td>With Aegon Life iTerm Insurance plan, customer...</td>\n",
       "      <td>[aegon, life, iterm, insurance, plan, customer...</td>\n",
       "      <td>{'aegon': 1, 'life': 3, 'iterm': 1, 'insurance...</td>\n",
       "    </tr>\n",
       "    <tr>\n",
       "      <th>4</th>\n",
       "      <td>Speaking about the sexual harassment allegatio...</td>\n",
       "      <td>[speaking, sexual, harassment, allegations, ra...</td>\n",
       "      <td>{'speaking': 1, 'sexual': 1, 'harassment': 1, ...</td>\n",
       "    </tr>\n",
       "  </tbody>\n",
       "</table>\n",
       "</div>"
      ],
      "text/plain": [
       "                                                text  \\\n",
       "0  Saurav Kant, an alumnus of upGrad and IIIT-B's...   \n",
       "1  Kunal Shah's credit card bill payment platform...   \n",
       "2  New Zealand defeated India by 8 wickets in the...   \n",
       "3  With Aegon Life iTerm Insurance plan, customer...   \n",
       "4  Speaking about the sexual harassment allegatio...   \n",
       "\n",
       "                                               words  \\\n",
       "0  [saurav, kant, alumnus, upgrad, iiit, pg, prog...   \n",
       "1  [kunal, shah, credit, card, bill, payment, pla...   \n",
       "2  [new, zealand, defeated, india, wickets, fourt...   \n",
       "3  [aegon, life, iterm, insurance, plan, customer...   \n",
       "4  [speaking, sexual, harassment, allegations, ra...   \n",
       "\n",
       "                                           word_freq  \n",
       "0  {'saurav': 1, 'kant': 1, 'alumnus': 1, 'upgrad...  \n",
       "1  {'kunal': 1, 'shah': 1, 'credit': 1, 'card': 1...  \n",
       "2  {'new': 1, 'zealand': 1, 'defeated': 1, 'india...  \n",
       "3  {'aegon': 1, 'life': 3, 'iterm': 1, 'insurance...  \n",
       "4  {'speaking': 1, 'sexual': 1, 'harassment': 1, ...  "
      ]
     },
     "execution_count": 303,
     "metadata": {},
     "output_type": "execute_result"
    }
   ],
   "source": [
    "df.head()"
   ]
  },
  {
   "cell_type": "code",
   "execution_count": 304,
   "id": "4c4c9dae",
   "metadata": {},
   "outputs": [],
   "source": [
    "def summarizing2(word_freq):\n",
    "    max_freq = max(word_freq.values())\n",
    "    for word in word_freq.keys():\n",
    "        word_freq[word] = word_freq[word] / max_freq\n",
    "    return word_freq"
   ]
  },
  {
   "cell_type": "code",
   "execution_count": 305,
   "id": "0820e3b8",
   "metadata": {},
   "outputs": [],
   "source": [
    "df['word_freq'] = df['word_freq'].apply(summarizing2)"
   ]
  },
  {
   "cell_type": "code",
   "execution_count": 306,
   "id": "b2aa0a3e",
   "metadata": {},
   "outputs": [
    {
     "data": {
      "text/html": [
       "<div>\n",
       "<style scoped>\n",
       "    .dataframe tbody tr th:only-of-type {\n",
       "        vertical-align: middle;\n",
       "    }\n",
       "\n",
       "    .dataframe tbody tr th {\n",
       "        vertical-align: top;\n",
       "    }\n",
       "\n",
       "    .dataframe thead th {\n",
       "        text-align: right;\n",
       "    }\n",
       "</style>\n",
       "<table border=\"1\" class=\"dataframe\">\n",
       "  <thead>\n",
       "    <tr style=\"text-align: right;\">\n",
       "      <th></th>\n",
       "      <th>text</th>\n",
       "      <th>words</th>\n",
       "      <th>word_freq</th>\n",
       "    </tr>\n",
       "  </thead>\n",
       "  <tbody>\n",
       "    <tr>\n",
       "      <th>0</th>\n",
       "      <td>Saurav Kant, an alumnus of upGrad and IIIT-B's...</td>\n",
       "      <td>[saurav, kant, alumnus, upgrad, iiit, pg, prog...</td>\n",
       "      <td>{'saurav': 0.3333333333333333, 'kant': 0.33333...</td>\n",
       "    </tr>\n",
       "    <tr>\n",
       "      <th>1</th>\n",
       "      <td>Kunal Shah's credit card bill payment platform...</td>\n",
       "      <td>[kunal, shah, credit, card, bill, payment, pla...</td>\n",
       "      <td>{'kunal': 0.3333333333333333, 'shah': 0.333333...</td>\n",
       "    </tr>\n",
       "    <tr>\n",
       "      <th>2</th>\n",
       "      <td>New Zealand defeated India by 8 wickets in the...</td>\n",
       "      <td>[new, zealand, defeated, india, wickets, fourt...</td>\n",
       "      <td>{'new': 0.25, 'zealand': 0.25, 'defeated': 0.2...</td>\n",
       "    </tr>\n",
       "    <tr>\n",
       "      <th>3</th>\n",
       "      <td>With Aegon Life iTerm Insurance plan, customer...</td>\n",
       "      <td>[aegon, life, iterm, insurance, plan, customer...</td>\n",
       "      <td>{'aegon': 0.3333333333333333, 'life': 1.0, 'it...</td>\n",
       "    </tr>\n",
       "    <tr>\n",
       "      <th>4</th>\n",
       "      <td>Speaking about the sexual harassment allegatio...</td>\n",
       "      <td>[speaking, sexual, harassment, allegations, ra...</td>\n",
       "      <td>{'speaking': 0.3333333333333333, 'sexual': 0.3...</td>\n",
       "    </tr>\n",
       "  </tbody>\n",
       "</table>\n",
       "</div>"
      ],
      "text/plain": [
       "                                                text  \\\n",
       "0  Saurav Kant, an alumnus of upGrad and IIIT-B's...   \n",
       "1  Kunal Shah's credit card bill payment platform...   \n",
       "2  New Zealand defeated India by 8 wickets in the...   \n",
       "3  With Aegon Life iTerm Insurance plan, customer...   \n",
       "4  Speaking about the sexual harassment allegatio...   \n",
       "\n",
       "                                               words  \\\n",
       "0  [saurav, kant, alumnus, upgrad, iiit, pg, prog...   \n",
       "1  [kunal, shah, credit, card, bill, payment, pla...   \n",
       "2  [new, zealand, defeated, india, wickets, fourt...   \n",
       "3  [aegon, life, iterm, insurance, plan, customer...   \n",
       "4  [speaking, sexual, harassment, allegations, ra...   \n",
       "\n",
       "                                           word_freq  \n",
       "0  {'saurav': 0.3333333333333333, 'kant': 0.33333...  \n",
       "1  {'kunal': 0.3333333333333333, 'shah': 0.333333...  \n",
       "2  {'new': 0.25, 'zealand': 0.25, 'defeated': 0.2...  \n",
       "3  {'aegon': 0.3333333333333333, 'life': 1.0, 'it...  \n",
       "4  {'speaking': 0.3333333333333333, 'sexual': 0.3...  "
      ]
     },
     "execution_count": 306,
     "metadata": {},
     "output_type": "execute_result"
    }
   ],
   "source": [
    "df.head()"
   ]
  },
  {
   "cell_type": "code",
   "execution_count": 307,
   "id": "443d9a0f",
   "metadata": {},
   "outputs": [
    {
     "data": {
      "text/plain": [
       "'Pakistani singer Rahat Fateh Ali Khan has denied receiving any notice from the Enforcement Directorate over allegedly smuggling foreign currency out of India. \"It would have been better if the authorities would have served the notice first if any and then publicised this,\" reads a press release issued on behalf of Rahat. The statement further called the allegation \"bizarre\".'"
      ]
     },
     "execution_count": 307,
     "metadata": {},
     "output_type": "execute_result"
    }
   ],
   "source": [
    "df['text'][5]"
   ]
  },
  {
   "cell_type": "code",
   "execution_count": 308,
   "id": "b194469f",
   "metadata": {},
   "outputs": [],
   "source": [
    "nlp = spacy.load('en_core_web_sm')"
   ]
  },
  {
   "cell_type": "code",
   "execution_count": 309,
   "id": "c861f10b",
   "metadata": {},
   "outputs": [],
   "source": [
    "def sen_splitting(text):\n",
    "    doc = nlp(text)\n",
    "    return [sent.text for sent in doc.sents]"
   ]
  },
  {
   "cell_type": "code",
   "execution_count": 310,
   "id": "3ebffd08",
   "metadata": {},
   "outputs": [],
   "source": [
    "df['sents'] = df['text'].apply(sen_splitting)"
   ]
  },
  {
   "cell_type": "code",
   "execution_count": 311,
   "id": "85cd37b1",
   "metadata": {},
   "outputs": [
    {
     "data": {
      "text/html": [
       "<div>\n",
       "<style scoped>\n",
       "    .dataframe tbody tr th:only-of-type {\n",
       "        vertical-align: middle;\n",
       "    }\n",
       "\n",
       "    .dataframe tbody tr th {\n",
       "        vertical-align: top;\n",
       "    }\n",
       "\n",
       "    .dataframe thead th {\n",
       "        text-align: right;\n",
       "    }\n",
       "</style>\n",
       "<table border=\"1\" class=\"dataframe\">\n",
       "  <thead>\n",
       "    <tr style=\"text-align: right;\">\n",
       "      <th></th>\n",
       "      <th>text</th>\n",
       "      <th>words</th>\n",
       "      <th>word_freq</th>\n",
       "      <th>sents</th>\n",
       "    </tr>\n",
       "  </thead>\n",
       "  <tbody>\n",
       "    <tr>\n",
       "      <th>0</th>\n",
       "      <td>Saurav Kant, an alumnus of upGrad and IIIT-B's...</td>\n",
       "      <td>[saurav, kant, alumnus, upgrad, iiit, pg, prog...</td>\n",
       "      <td>{'saurav': 0.3333333333333333, 'kant': 0.33333...</td>\n",
       "      <td>[Saurav Kant, an alumnus of upGrad and IIIT-B'...</td>\n",
       "    </tr>\n",
       "    <tr>\n",
       "      <th>1</th>\n",
       "      <td>Kunal Shah's credit card bill payment platform...</td>\n",
       "      <td>[kunal, shah, credit, card, bill, payment, pla...</td>\n",
       "      <td>{'kunal': 0.3333333333333333, 'shah': 0.333333...</td>\n",
       "      <td>[Kunal Shah's credit card bill payment platfor...</td>\n",
       "    </tr>\n",
       "    <tr>\n",
       "      <th>2</th>\n",
       "      <td>New Zealand defeated India by 8 wickets in the...</td>\n",
       "      <td>[new, zealand, defeated, india, wickets, fourt...</td>\n",
       "      <td>{'new': 0.25, 'zealand': 0.25, 'defeated': 0.2...</td>\n",
       "      <td>[New Zealand defeated India by 8 wickets in th...</td>\n",
       "    </tr>\n",
       "    <tr>\n",
       "      <th>3</th>\n",
       "      <td>With Aegon Life iTerm Insurance plan, customer...</td>\n",
       "      <td>[aegon, life, iterm, insurance, plan, customer...</td>\n",
       "      <td>{'aegon': 0.3333333333333333, 'life': 1.0, 'it...</td>\n",
       "      <td>[With Aegon Life iTerm Insurance plan, custome...</td>\n",
       "    </tr>\n",
       "    <tr>\n",
       "      <th>4</th>\n",
       "      <td>Speaking about the sexual harassment allegatio...</td>\n",
       "      <td>[speaking, sexual, harassment, allegations, ra...</td>\n",
       "      <td>{'speaking': 0.3333333333333333, 'sexual': 0.3...</td>\n",
       "      <td>[Speaking about the sexual harassment allegati...</td>\n",
       "    </tr>\n",
       "  </tbody>\n",
       "</table>\n",
       "</div>"
      ],
      "text/plain": [
       "                                                text  \\\n",
       "0  Saurav Kant, an alumnus of upGrad and IIIT-B's...   \n",
       "1  Kunal Shah's credit card bill payment platform...   \n",
       "2  New Zealand defeated India by 8 wickets in the...   \n",
       "3  With Aegon Life iTerm Insurance plan, customer...   \n",
       "4  Speaking about the sexual harassment allegatio...   \n",
       "\n",
       "                                               words  \\\n",
       "0  [saurav, kant, alumnus, upgrad, iiit, pg, prog...   \n",
       "1  [kunal, shah, credit, card, bill, payment, pla...   \n",
       "2  [new, zealand, defeated, india, wickets, fourt...   \n",
       "3  [aegon, life, iterm, insurance, plan, customer...   \n",
       "4  [speaking, sexual, harassment, allegations, ra...   \n",
       "\n",
       "                                           word_freq  \\\n",
       "0  {'saurav': 0.3333333333333333, 'kant': 0.33333...   \n",
       "1  {'kunal': 0.3333333333333333, 'shah': 0.333333...   \n",
       "2  {'new': 0.25, 'zealand': 0.25, 'defeated': 0.2...   \n",
       "3  {'aegon': 0.3333333333333333, 'life': 1.0, 'it...   \n",
       "4  {'speaking': 0.3333333333333333, 'sexual': 0.3...   \n",
       "\n",
       "                                               sents  \n",
       "0  [Saurav Kant, an alumnus of upGrad and IIIT-B'...  \n",
       "1  [Kunal Shah's credit card bill payment platfor...  \n",
       "2  [New Zealand defeated India by 8 wickets in th...  \n",
       "3  [With Aegon Life iTerm Insurance plan, custome...  \n",
       "4  [Speaking about the sexual harassment allegati...  "
      ]
     },
     "execution_count": 311,
     "metadata": {},
     "output_type": "execute_result"
    }
   ],
   "source": [
    "df.head()"
   ]
  },
  {
   "cell_type": "code",
   "execution_count": 312,
   "id": "7b7764bf",
   "metadata": {},
   "outputs": [
    {
     "data": {
      "text/plain": [
       "[\"Kunal Shah's credit card bill payment platform, CRED, gave users a chance to win free food from Swiggy for one year.\",\n",
       " 'Pranav Kaushik, a Delhi techie, bagged this reward after spending 2000 CRED coins.',\n",
       " 'Users get one CRED coin per rupee of bill paid, which can be used to avail rewards from brands like Ixigo, BookMyShow, UberEats, Cult.',\n",
       " 'Fit and more.']"
      ]
     },
     "execution_count": 312,
     "metadata": {},
     "output_type": "execute_result"
    }
   ],
   "source": [
    "df['sents'][1]"
   ]
  },
  {
   "cell_type": "code",
   "execution_count": 313,
   "id": "45efa59d",
   "metadata": {},
   "outputs": [],
   "source": [
    "word_freq_n = df['word_freq']"
   ]
  },
  {
   "cell_type": "code",
   "execution_count": 314,
   "id": "f78cdad6",
   "metadata": {},
   "outputs": [
    {
     "data": {
      "text/plain": [
       "0        {'saurav': 0.3333333333333333, 'kant': 0.33333...\n",
       "1        {'kunal': 0.3333333333333333, 'shah': 0.333333...\n",
       "2        {'new': 0.25, 'zealand': 0.25, 'defeated': 0.2...\n",
       "3        {'aegon': 0.3333333333333333, 'life': 1.0, 'it...\n",
       "4        {'speaking': 0.3333333333333333, 'sexual': 0.3...\n",
       "                               ...                        \n",
       "98396    {'crpf': 0.5, 'jawan': 1.0, 'tuesday': 0.5, 'a...\n",
       "98397    {'uff': 0.3333333333333333, 'yeh': 0.333333333...\n",
       "98398    {'according': 0.25, 'reports': 0.5, 'new': 0.2...\n",
       "98399    {'new': 0.3333333333333333, 'music': 0.3333333...\n",
       "98400    {'madhesi': 0.5, 'morcha': 1.0, 'alliance': 0....\n",
       "Name: word_freq, Length: 98401, dtype: object"
      ]
     },
     "execution_count": 314,
     "metadata": {},
     "output_type": "execute_result"
    }
   ],
   "source": [
    "word_freq_n"
   ]
  },
  {
   "cell_type": "code",
   "execution_count": 315,
   "id": "f2c46777",
   "metadata": {},
   "outputs": [],
   "source": [
    "sents_n = df['sents']"
   ]
  },
  {
   "cell_type": "code",
   "execution_count": 316,
   "id": "46db2663",
   "metadata": {},
   "outputs": [
    {
     "data": {
      "text/plain": [
       "0        [Saurav Kant, an alumnus of upGrad and IIIT-B'...\n",
       "1        [Kunal Shah's credit card bill payment platfor...\n",
       "2        [New Zealand defeated India by 8 wickets in th...\n",
       "3        [With Aegon Life iTerm Insurance plan, custome...\n",
       "4        [Speaking about the sexual harassment allegati...\n",
       "                               ...                        \n",
       "98396    [A CRPF jawan was on Tuesday axed to death wit...\n",
       "98397    ['Uff Yeh', the first song from the Sonakshi S...\n",
       "98398    [According to reports, a new version of the 19...\n",
       "98399    [A new music video shows rapper Snoop Dogg aim...\n",
       "98400    [Madhesi Morcha, an alliance of seven politica...\n",
       "Name: sents, Length: 98401, dtype: object"
      ]
     },
     "execution_count": 316,
     "metadata": {},
     "output_type": "execute_result"
    }
   ],
   "source": [
    "sents_n"
   ]
  },
  {
   "cell_type": "code",
   "execution_count": 317,
   "id": "d3ecc75c",
   "metadata": {},
   "outputs": [
    {
     "name": "stdout",
     "output_type": "stream",
     "text": [
      "Kunal Shah's credit card bill payment platform, CRED, gave users a chance to win free food from Swiggy for one year.\n",
      "Pranav Kaushik, a Delhi techie, bagged this reward after spending 2000 CRED coins.\n",
      "Users get one CRED coin per rupee of bill paid, which can be used to avail rewards from brands like Ixigo, BookMyShow, UberEats, Cult.\n",
      "Fit and more.\n"
     ]
    }
   ],
   "source": [
    "for i in sents_n[1]:\n",
    "    print(i)"
   ]
  },
  {
   "cell_type": "code",
   "execution_count": 318,
   "id": "8d6c1f93",
   "metadata": {},
   "outputs": [
    {
     "data": {
      "text/plain": [
       "(98401, 4)"
      ]
     },
     "execution_count": 318,
     "metadata": {},
     "output_type": "execute_result"
    }
   ],
   "source": [
    "df.shape"
   ]
  },
  {
   "cell_type": "code",
   "execution_count": 319,
   "id": "764d1a3c",
   "metadata": {},
   "outputs": [
    {
     "data": {
      "text/html": [
       "<div>\n",
       "<style scoped>\n",
       "    .dataframe tbody tr th:only-of-type {\n",
       "        vertical-align: middle;\n",
       "    }\n",
       "\n",
       "    .dataframe tbody tr th {\n",
       "        vertical-align: top;\n",
       "    }\n",
       "\n",
       "    .dataframe thead th {\n",
       "        text-align: right;\n",
       "    }\n",
       "</style>\n",
       "<table border=\"1\" class=\"dataframe\">\n",
       "  <thead>\n",
       "    <tr style=\"text-align: right;\">\n",
       "      <th></th>\n",
       "      <th>text</th>\n",
       "      <th>words</th>\n",
       "      <th>word_freq</th>\n",
       "      <th>sents</th>\n",
       "    </tr>\n",
       "  </thead>\n",
       "  <tbody>\n",
       "    <tr>\n",
       "      <th>0</th>\n",
       "      <td>Saurav Kant, an alumnus of upGrad and IIIT-B's...</td>\n",
       "      <td>[saurav, kant, alumnus, upgrad, iiit, pg, prog...</td>\n",
       "      <td>{'saurav': 0.3333333333333333, 'kant': 0.33333...</td>\n",
       "      <td>[Saurav Kant, an alumnus of upGrad and IIIT-B'...</td>\n",
       "    </tr>\n",
       "    <tr>\n",
       "      <th>1</th>\n",
       "      <td>Kunal Shah's credit card bill payment platform...</td>\n",
       "      <td>[kunal, shah, credit, card, bill, payment, pla...</td>\n",
       "      <td>{'kunal': 0.3333333333333333, 'shah': 0.333333...</td>\n",
       "      <td>[Kunal Shah's credit card bill payment platfor...</td>\n",
       "    </tr>\n",
       "    <tr>\n",
       "      <th>2</th>\n",
       "      <td>New Zealand defeated India by 8 wickets in the...</td>\n",
       "      <td>[new, zealand, defeated, india, wickets, fourt...</td>\n",
       "      <td>{'new': 0.25, 'zealand': 0.25, 'defeated': 0.2...</td>\n",
       "      <td>[New Zealand defeated India by 8 wickets in th...</td>\n",
       "    </tr>\n",
       "    <tr>\n",
       "      <th>3</th>\n",
       "      <td>With Aegon Life iTerm Insurance plan, customer...</td>\n",
       "      <td>[aegon, life, iterm, insurance, plan, customer...</td>\n",
       "      <td>{'aegon': 0.3333333333333333, 'life': 1.0, 'it...</td>\n",
       "      <td>[With Aegon Life iTerm Insurance plan, custome...</td>\n",
       "    </tr>\n",
       "    <tr>\n",
       "      <th>4</th>\n",
       "      <td>Speaking about the sexual harassment allegatio...</td>\n",
       "      <td>[speaking, sexual, harassment, allegations, ra...</td>\n",
       "      <td>{'speaking': 0.3333333333333333, 'sexual': 0.3...</td>\n",
       "      <td>[Speaking about the sexual harassment allegati...</td>\n",
       "    </tr>\n",
       "  </tbody>\n",
       "</table>\n",
       "</div>"
      ],
      "text/plain": [
       "                                                text  \\\n",
       "0  Saurav Kant, an alumnus of upGrad and IIIT-B's...   \n",
       "1  Kunal Shah's credit card bill payment platform...   \n",
       "2  New Zealand defeated India by 8 wickets in the...   \n",
       "3  With Aegon Life iTerm Insurance plan, customer...   \n",
       "4  Speaking about the sexual harassment allegatio...   \n",
       "\n",
       "                                               words  \\\n",
       "0  [saurav, kant, alumnus, upgrad, iiit, pg, prog...   \n",
       "1  [kunal, shah, credit, card, bill, payment, pla...   \n",
       "2  [new, zealand, defeated, india, wickets, fourt...   \n",
       "3  [aegon, life, iterm, insurance, plan, customer...   \n",
       "4  [speaking, sexual, harassment, allegations, ra...   \n",
       "\n",
       "                                           word_freq  \\\n",
       "0  {'saurav': 0.3333333333333333, 'kant': 0.33333...   \n",
       "1  {'kunal': 0.3333333333333333, 'shah': 0.333333...   \n",
       "2  {'new': 0.25, 'zealand': 0.25, 'defeated': 0.2...   \n",
       "3  {'aegon': 0.3333333333333333, 'life': 1.0, 'it...   \n",
       "4  {'speaking': 0.3333333333333333, 'sexual': 0.3...   \n",
       "\n",
       "                                               sents  \n",
       "0  [Saurav Kant, an alumnus of upGrad and IIIT-B'...  \n",
       "1  [Kunal Shah's credit card bill payment platfor...  \n",
       "2  [New Zealand defeated India by 8 wickets in th...  \n",
       "3  [With Aegon Life iTerm Insurance plan, custome...  \n",
       "4  [Speaking about the sexual harassment allegati...  "
      ]
     },
     "execution_count": 319,
     "metadata": {},
     "output_type": "execute_result"
    }
   ],
   "source": [
    "df.head()"
   ]
  },
  {
   "cell_type": "code",
   "execution_count": 320,
   "id": "72aea13e",
   "metadata": {},
   "outputs": [
    {
     "data": {
      "text/plain": [
       "0        {'saurav': 0.3333333333333333, 'kant': 0.33333...\n",
       "1        {'kunal': 0.3333333333333333, 'shah': 0.333333...\n",
       "2        {'new': 0.25, 'zealand': 0.25, 'defeated': 0.2...\n",
       "3        {'aegon': 0.3333333333333333, 'life': 1.0, 'it...\n",
       "4        {'speaking': 0.3333333333333333, 'sexual': 0.3...\n",
       "                               ...                        \n",
       "98396    {'crpf': 0.5, 'jawan': 1.0, 'tuesday': 0.5, 'a...\n",
       "98397    {'uff': 0.3333333333333333, 'yeh': 0.333333333...\n",
       "98398    {'according': 0.25, 'reports': 0.5, 'new': 0.2...\n",
       "98399    {'new': 0.3333333333333333, 'music': 0.3333333...\n",
       "98400    {'madhesi': 0.5, 'morcha': 1.0, 'alliance': 0....\n",
       "Name: word_freq, Length: 98401, dtype: object"
      ]
     },
     "execution_count": 320,
     "metadata": {},
     "output_type": "execute_result"
    }
   ],
   "source": [
    "df['word_freq']"
   ]
  },
  {
   "cell_type": "code",
   "execution_count": 321,
   "id": "18e4d94a",
   "metadata": {},
   "outputs": [
    {
     "data": {
      "text/plain": [
       "dict_keys(['saurav', 'kant', 'alumnus', 'upgrad', 'iiit', 'pg', 'program', 'machine', 'learning', 'artificial', 'intelligence', 'sr', 'systems', 'engineer', 'infosys', 'almost', 'years', 'work', 'experience', 'degree', 'career', 'support', 'helped', 'transition', 'data', 'scientist', 'tech', 'mahindra', 'salary', 'hike', 'online', 'power', 'powered', 'lakh', 'careers'])"
      ]
     },
     "execution_count": 321,
     "metadata": {},
     "output_type": "execute_result"
    }
   ],
   "source": [
    "word_freq_n[0].keys()"
   ]
  },
  {
   "cell_type": "code",
   "execution_count": 322,
   "id": "9fbf4995",
   "metadata": {},
   "outputs": [
    {
     "data": {
      "text/plain": [
       "0        {'saurav': 0.3333333333333333, 'kant': 0.33333...\n",
       "1        {'kunal': 0.3333333333333333, 'shah': 0.333333...\n",
       "2        {'new': 0.25, 'zealand': 0.25, 'defeated': 0.2...\n",
       "3        {'aegon': 0.3333333333333333, 'life': 1.0, 'it...\n",
       "4        {'speaking': 0.3333333333333333, 'sexual': 0.3...\n",
       "                               ...                        \n",
       "98396    {'crpf': 0.5, 'jawan': 1.0, 'tuesday': 0.5, 'a...\n",
       "98397    {'uff': 0.3333333333333333, 'yeh': 0.333333333...\n",
       "98398    {'according': 0.25, 'reports': 0.5, 'new': 0.2...\n",
       "98399    {'new': 0.3333333333333333, 'music': 0.3333333...\n",
       "98400    {'madhesi': 0.5, 'morcha': 1.0, 'alliance': 0....\n",
       "Name: word_freq, Length: 98401, dtype: object"
      ]
     },
     "execution_count": 322,
     "metadata": {},
     "output_type": "execute_result"
    }
   ],
   "source": [
    "word_freq_n"
   ]
  },
  {
   "cell_type": "code",
   "execution_count": 323,
   "id": "628c81d9",
   "metadata": {},
   "outputs": [],
   "source": [
    "def sent_sc(data1, data2):\n",
    "    l = {}\n",
    "    word_freq = data1\n",
    "    sents = data2\n",
    "    for sen in sents:\n",
    "        for word in sen.split():\n",
    "            if word in word_freq.keys():\n",
    "                if sen not in l.keys():\n",
    "                    l[sen] = word_freq[word]\n",
    "                else:\n",
    "                    l[sen] += word_freq[word]\n",
    "    return l"
   ]
  },
  {
   "cell_type": "code",
   "execution_count": 324,
   "id": "e79550d5",
   "metadata": {},
   "outputs": [],
   "source": [
    "n = []\n",
    "for i in range(df.shape[0]):\n",
    "    n.append(sent_sc(df['word_freq'][i], df['sents'][i]))"
   ]
  },
  {
   "cell_type": "code",
   "execution_count": 325,
   "id": "67d787ee",
   "metadata": {},
   "outputs": [
    {
     "data": {
      "text/plain": [
       "[{\"Saurav Kant, an alumnus of upGrad and IIIT-B's PG Program in Machine learning and Artificial Intelligence, was a Sr Systems Engineer at Infosys with almost 5 years of work experience.\": 1.9999999999999998,\n",
       "  \"The program and upGrad's 360-degree career support helped him transition to a Data Scientist at Tech Mahindra with 90% salary hike.\": 2.333333333333333,\n",
       "  \"upGrad's Online Power Learning has powered 3 lakh+ careers.\": 0.3333333333333333},\n",
       " {\"Kunal Shah's credit card bill payment platform, CRED, gave users a chance to win free food from Swiggy for one year.\": 4.666666666666667,\n",
       "  'Pranav Kaushik, a Delhi techie, bagged this reward after spending 2000 CRED coins.': 1.0,\n",
       "  'Users get one CRED coin per rupee of bill paid, which can be used to avail rewards from brands like Ixigo, BookMyShow, UberEats, Cult.': 4.333333333333333},\n",
       " {'New Zealand defeated India by 8 wickets in the fourth ODI at Hamilton on Thursday to win their first match of the five-match ODI series.': 2.25,\n",
       "  \"India lost an international match under Rohit Sharma's captaincy after 12 consecutive victories dating back to March 2018.\": 2.75,\n",
       "  'The match witnessed India getting all out for 92, their seventh lowest total in ODI cricket history.': 2.5},\n",
       " {'With Aegon Life iTerm Insurance plan, customers can enjoy tax benefits on your premiums paid and save up to â\\x82¹46,800^ on taxes.': 2.6666666666666665,\n",
       "  'The plan provides life cover up to the age of 100 years.': 3.333333333333333,\n",
       "  'Also, customers have options to insure against Critical Illnesses, Disability and Accidental Death Benefit Rider with a life cover up to the age of 80 years.': 3.666666666666666},\n",
       " {'Speaking about the sexual harassment allegations against Rajkumar Hirani, Sonam Kapoor said, \"I\\'ve known Hirani for many years...': 1.6666666666666665,\n",
       "  'What if it\\'s not true, the [#MeToo] movement will get derailed.\"': 1.0,\n",
       "  '\"In the #MeToo movement, I always believe a woman.': 0.6666666666666666,\n",
       "  'But in this case, we need to reserve our judgment,\" she added.': 0.6666666666666666,\n",
       "  \"Hirani has been accused by an assistant who worked in 'Sanju'.\": 1.0},\n",
       " {'Pakistani singer Rahat Fateh Ali Khan has denied receiving any notice from the Enforcement Directorate over allegedly smuggling foreign currency out of India.': 4.5,\n",
       "  '\"It would have been better if the authorities would have served the notice first if any and then publicised this,\" reads a press release issued on behalf of Rahat.': 8.0,\n",
       "  'The statement further called the allegation \"bizarre\".': 1.5},\n",
       " {'India recorded their lowest ODI total in New Zealand after getting all out for 92 runs in 30.5 overs in the fourth ODI at Hamilton on Thursday.': 3.0,\n",
       "  \"Seven of India's batsmen were dismissed for single-digit scores, while their number ten batsman Yuzvendra Chahal top-scored with 18*(37).\": 1.6666666666666665,\n",
       "  \"India's previous lowest ODI total in New Zealand was 108.\": 1.6666666666666665},\n",
       " {'Weeks after ex-CBI Director Alok Verma told the Department of Personnel and Training to consider him retired, the Home Ministry asked him to join work on the last day of his fixed tenure as Director on Thursday.': 5.0,\n",
       "  'The ministry directed him to immediately join as DG, Fire Services, the post he was transferred to after his removal as CBI chief.': 4.5},\n",
       " {'Andhra Pradesh CM N Chandrababu Naidu has said, \"When I met then US President Bill Clinton, I addressed him as Mr Clinton, not as \\'sir\\'.': 1.5,\n",
       "  '(PM Narendra) Modi is my junior in politics...I addressed him as sir 10 times.\"': 2.5,\n",
       "  '\"I did this...to satisfy his ego in the hope that he will do justice to the state,\" he added.': 2.0},\n",
       " {\"Congress candidate Shafia Zubair won the Ramgarh Assembly seat in Rajasthan, by defeating BJP's Sukhwant Singh with a margin of 12,228 votes in the bypoll.\": 3.5,\n",
       "  'With this victory, Congress has taken its total to 100 seats in the 200-member assembly.': 1.5,\n",
       "  'The election to the Ramgarh seat was delayed due to the death of sitting MLA and BSP candidate Laxman Singh.': 4.5}]"
      ]
     },
     "execution_count": 325,
     "metadata": {},
     "output_type": "execute_result"
    }
   ],
   "source": [
    "n[:10]"
   ]
  },
  {
   "cell_type": "code",
   "execution_count": 326,
   "id": "5da3b2eb",
   "metadata": {},
   "outputs": [
    {
     "data": {
      "text/plain": [
       "98401"
      ]
     },
     "execution_count": 326,
     "metadata": {},
     "output_type": "execute_result"
    }
   ],
   "source": [
    "len(n)"
   ]
  },
  {
   "cell_type": "code",
   "execution_count": 327,
   "id": "bbe71c60",
   "metadata": {},
   "outputs": [],
   "source": [
    "m = []\n",
    "num_sentences = 1\n",
    "for i in n:\n",
    "    m.append(nlargest(num_sentences, i, key = i.get))"
   ]
  },
  {
   "cell_type": "code",
   "execution_count": 328,
   "id": "73f4a4c7",
   "metadata": {},
   "outputs": [
    {
     "data": {
      "text/plain": [
       "[[\"The program and upGrad's 360-degree career support helped him transition to a Data Scientist at Tech Mahindra with 90% salary hike.\"],\n",
       " [\"Kunal Shah's credit card bill payment platform, CRED, gave users a chance to win free food from Swiggy for one year.\"],\n",
       " [\"India lost an international match under Rohit Sharma's captaincy after 12 consecutive victories dating back to March 2018.\"],\n",
       " ['Also, customers have options to insure against Critical Illnesses, Disability and Accidental Death Benefit Rider with a life cover up to the age of 80 years.'],\n",
       " ['Speaking about the sexual harassment allegations against Rajkumar Hirani, Sonam Kapoor said, \"I\\'ve known Hirani for many years...'],\n",
       " ['\"It would have been better if the authorities would have served the notice first if any and then publicised this,\" reads a press release issued on behalf of Rahat.'],\n",
       " ['India recorded their lowest ODI total in New Zealand after getting all out for 92 runs in 30.5 overs in the fourth ODI at Hamilton on Thursday.'],\n",
       " ['Weeks after ex-CBI Director Alok Verma told the Department of Personnel and Training to consider him retired, the Home Ministry asked him to join work on the last day of his fixed tenure as Director on Thursday.'],\n",
       " ['(PM Narendra) Modi is my junior in politics...I addressed him as sir 10 times.\"'],\n",
       " ['The election to the Ramgarh seat was delayed due to the death of sitting MLA and BSP candidate Laxman Singh.']]"
      ]
     },
     "execution_count": 328,
     "metadata": {},
     "output_type": "execute_result"
    }
   ],
   "source": [
    "m[:10]"
   ]
  },
  {
   "cell_type": "code",
   "execution_count": 329,
   "id": "52061663",
   "metadata": {},
   "outputs": [],
   "source": [
    "df['headline'] = m"
   ]
  },
  {
   "cell_type": "code",
   "execution_count": 330,
   "id": "9e17fbad",
   "metadata": {},
   "outputs": [
    {
     "data": {
      "text/html": [
       "<div>\n",
       "<style scoped>\n",
       "    .dataframe tbody tr th:only-of-type {\n",
       "        vertical-align: middle;\n",
       "    }\n",
       "\n",
       "    .dataframe tbody tr th {\n",
       "        vertical-align: top;\n",
       "    }\n",
       "\n",
       "    .dataframe thead th {\n",
       "        text-align: right;\n",
       "    }\n",
       "</style>\n",
       "<table border=\"1\" class=\"dataframe\">\n",
       "  <thead>\n",
       "    <tr style=\"text-align: right;\">\n",
       "      <th></th>\n",
       "      <th>text</th>\n",
       "      <th>words</th>\n",
       "      <th>word_freq</th>\n",
       "      <th>sents</th>\n",
       "      <th>headline</th>\n",
       "    </tr>\n",
       "  </thead>\n",
       "  <tbody>\n",
       "    <tr>\n",
       "      <th>0</th>\n",
       "      <td>Saurav Kant, an alumnus of upGrad and IIIT-B's...</td>\n",
       "      <td>[saurav, kant, alumnus, upgrad, iiit, pg, prog...</td>\n",
       "      <td>{'saurav': 0.3333333333333333, 'kant': 0.33333...</td>\n",
       "      <td>[Saurav Kant, an alumnus of upGrad and IIIT-B'...</td>\n",
       "      <td>[The program and upGrad's 360-degree career su...</td>\n",
       "    </tr>\n",
       "    <tr>\n",
       "      <th>1</th>\n",
       "      <td>Kunal Shah's credit card bill payment platform...</td>\n",
       "      <td>[kunal, shah, credit, card, bill, payment, pla...</td>\n",
       "      <td>{'kunal': 0.3333333333333333, 'shah': 0.333333...</td>\n",
       "      <td>[Kunal Shah's credit card bill payment platfor...</td>\n",
       "      <td>[Kunal Shah's credit card bill payment platfor...</td>\n",
       "    </tr>\n",
       "    <tr>\n",
       "      <th>2</th>\n",
       "      <td>New Zealand defeated India by 8 wickets in the...</td>\n",
       "      <td>[new, zealand, defeated, india, wickets, fourt...</td>\n",
       "      <td>{'new': 0.25, 'zealand': 0.25, 'defeated': 0.2...</td>\n",
       "      <td>[New Zealand defeated India by 8 wickets in th...</td>\n",
       "      <td>[India lost an international match under Rohit...</td>\n",
       "    </tr>\n",
       "    <tr>\n",
       "      <th>3</th>\n",
       "      <td>With Aegon Life iTerm Insurance plan, customer...</td>\n",
       "      <td>[aegon, life, iterm, insurance, plan, customer...</td>\n",
       "      <td>{'aegon': 0.3333333333333333, 'life': 1.0, 'it...</td>\n",
       "      <td>[With Aegon Life iTerm Insurance plan, custome...</td>\n",
       "      <td>[Also, customers have options to insure agains...</td>\n",
       "    </tr>\n",
       "    <tr>\n",
       "      <th>4</th>\n",
       "      <td>Speaking about the sexual harassment allegatio...</td>\n",
       "      <td>[speaking, sexual, harassment, allegations, ra...</td>\n",
       "      <td>{'speaking': 0.3333333333333333, 'sexual': 0.3...</td>\n",
       "      <td>[Speaking about the sexual harassment allegati...</td>\n",
       "      <td>[Speaking about the sexual harassment allegati...</td>\n",
       "    </tr>\n",
       "  </tbody>\n",
       "</table>\n",
       "</div>"
      ],
      "text/plain": [
       "                                                text  \\\n",
       "0  Saurav Kant, an alumnus of upGrad and IIIT-B's...   \n",
       "1  Kunal Shah's credit card bill payment platform...   \n",
       "2  New Zealand defeated India by 8 wickets in the...   \n",
       "3  With Aegon Life iTerm Insurance plan, customer...   \n",
       "4  Speaking about the sexual harassment allegatio...   \n",
       "\n",
       "                                               words  \\\n",
       "0  [saurav, kant, alumnus, upgrad, iiit, pg, prog...   \n",
       "1  [kunal, shah, credit, card, bill, payment, pla...   \n",
       "2  [new, zealand, defeated, india, wickets, fourt...   \n",
       "3  [aegon, life, iterm, insurance, plan, customer...   \n",
       "4  [speaking, sexual, harassment, allegations, ra...   \n",
       "\n",
       "                                           word_freq  \\\n",
       "0  {'saurav': 0.3333333333333333, 'kant': 0.33333...   \n",
       "1  {'kunal': 0.3333333333333333, 'shah': 0.333333...   \n",
       "2  {'new': 0.25, 'zealand': 0.25, 'defeated': 0.2...   \n",
       "3  {'aegon': 0.3333333333333333, 'life': 1.0, 'it...   \n",
       "4  {'speaking': 0.3333333333333333, 'sexual': 0.3...   \n",
       "\n",
       "                                               sents  \\\n",
       "0  [Saurav Kant, an alumnus of upGrad and IIIT-B'...   \n",
       "1  [Kunal Shah's credit card bill payment platfor...   \n",
       "2  [New Zealand defeated India by 8 wickets in th...   \n",
       "3  [With Aegon Life iTerm Insurance plan, custome...   \n",
       "4  [Speaking about the sexual harassment allegati...   \n",
       "\n",
       "                                            headline  \n",
       "0  [The program and upGrad's 360-degree career su...  \n",
       "1  [Kunal Shah's credit card bill payment platfor...  \n",
       "2  [India lost an international match under Rohit...  \n",
       "3  [Also, customers have options to insure agains...  \n",
       "4  [Speaking about the sexual harassment allegati...  "
      ]
     },
     "execution_count": 330,
     "metadata": {},
     "output_type": "execute_result"
    }
   ],
   "source": [
    "df.head()"
   ]
  },
  {
   "cell_type": "code",
   "execution_count": 331,
   "id": "4a506fc4",
   "metadata": {},
   "outputs": [
    {
     "data": {
      "text/plain": [
       "Index(['text', 'words', 'word_freq', 'sents', 'headline'], dtype='object')"
      ]
     },
     "execution_count": 331,
     "metadata": {},
     "output_type": "execute_result"
    }
   ],
   "source": [
    "df.columns"
   ]
  },
  {
   "cell_type": "code",
   "execution_count": 332,
   "id": "ca95b9b0",
   "metadata": {},
   "outputs": [
    {
     "data": {
      "text/plain": [
       "RangeIndex(start=0, stop=98401, step=1)"
      ]
     },
     "execution_count": 332,
     "metadata": {},
     "output_type": "execute_result"
    }
   ],
   "source": [
    "df.index"
   ]
  },
  {
   "cell_type": "code",
   "execution_count": 337,
   "id": "9dabe4ba",
   "metadata": {},
   "outputs": [
    {
     "data": {
      "text/plain": [
       "\"The program and upGrad's 360-degree career support helped him transition to a Data Scientist at Tech Mahindra with 90% salary hike.\""
      ]
     },
     "execution_count": 337,
     "metadata": {},
     "output_type": "execute_result"
    }
   ],
   "source": [
    "df['headline'][0][0]"
   ]
  },
  {
   "cell_type": "code",
   "execution_count": 345,
   "id": "5da9624f",
   "metadata": {},
   "outputs": [],
   "source": [
    "s = []\n",
    "for i in df['headline']:\n",
    "    s.append(i[0])"
   ]
  },
  {
   "cell_type": "code",
   "execution_count": 347,
   "id": "56012980",
   "metadata": {},
   "outputs": [],
   "source": [
    "df['headline1'] = s"
   ]
  },
  {
   "cell_type": "code",
   "execution_count": 348,
   "id": "f44cd4c0",
   "metadata": {},
   "outputs": [
    {
     "data": {
      "text/html": [
       "<div>\n",
       "<style scoped>\n",
       "    .dataframe tbody tr th:only-of-type {\n",
       "        vertical-align: middle;\n",
       "    }\n",
       "\n",
       "    .dataframe tbody tr th {\n",
       "        vertical-align: top;\n",
       "    }\n",
       "\n",
       "    .dataframe thead th {\n",
       "        text-align: right;\n",
       "    }\n",
       "</style>\n",
       "<table border=\"1\" class=\"dataframe\">\n",
       "  <thead>\n",
       "    <tr style=\"text-align: right;\">\n",
       "      <th></th>\n",
       "      <th>text</th>\n",
       "      <th>words</th>\n",
       "      <th>word_freq</th>\n",
       "      <th>sents</th>\n",
       "      <th>headline</th>\n",
       "      <th>headline1</th>\n",
       "    </tr>\n",
       "  </thead>\n",
       "  <tbody>\n",
       "    <tr>\n",
       "      <th>0</th>\n",
       "      <td>Saurav Kant, an alumnus of upGrad and IIIT-B's...</td>\n",
       "      <td>[saurav, kant, alumnus, upgrad, iiit, pg, prog...</td>\n",
       "      <td>{'saurav': 0.3333333333333333, 'kant': 0.33333...</td>\n",
       "      <td>[Saurav Kant, an alumnus of upGrad and IIIT-B'...</td>\n",
       "      <td>[The program and upGrad's 360-degree career su...</td>\n",
       "      <td>The program and upGrad's 360-degree career sup...</td>\n",
       "    </tr>\n",
       "    <tr>\n",
       "      <th>1</th>\n",
       "      <td>Kunal Shah's credit card bill payment platform...</td>\n",
       "      <td>[kunal, shah, credit, card, bill, payment, pla...</td>\n",
       "      <td>{'kunal': 0.3333333333333333, 'shah': 0.333333...</td>\n",
       "      <td>[Kunal Shah's credit card bill payment platfor...</td>\n",
       "      <td>[Kunal Shah's credit card bill payment platfor...</td>\n",
       "      <td>Kunal Shah's credit card bill payment platform...</td>\n",
       "    </tr>\n",
       "    <tr>\n",
       "      <th>2</th>\n",
       "      <td>New Zealand defeated India by 8 wickets in the...</td>\n",
       "      <td>[new, zealand, defeated, india, wickets, fourt...</td>\n",
       "      <td>{'new': 0.25, 'zealand': 0.25, 'defeated': 0.2...</td>\n",
       "      <td>[New Zealand defeated India by 8 wickets in th...</td>\n",
       "      <td>[India lost an international match under Rohit...</td>\n",
       "      <td>India lost an international match under Rohit ...</td>\n",
       "    </tr>\n",
       "    <tr>\n",
       "      <th>3</th>\n",
       "      <td>With Aegon Life iTerm Insurance plan, customer...</td>\n",
       "      <td>[aegon, life, iterm, insurance, plan, customer...</td>\n",
       "      <td>{'aegon': 0.3333333333333333, 'life': 1.0, 'it...</td>\n",
       "      <td>[With Aegon Life iTerm Insurance plan, custome...</td>\n",
       "      <td>[Also, customers have options to insure agains...</td>\n",
       "      <td>Also, customers have options to insure against...</td>\n",
       "    </tr>\n",
       "    <tr>\n",
       "      <th>4</th>\n",
       "      <td>Speaking about the sexual harassment allegatio...</td>\n",
       "      <td>[speaking, sexual, harassment, allegations, ra...</td>\n",
       "      <td>{'speaking': 0.3333333333333333, 'sexual': 0.3...</td>\n",
       "      <td>[Speaking about the sexual harassment allegati...</td>\n",
       "      <td>[Speaking about the sexual harassment allegati...</td>\n",
       "      <td>Speaking about the sexual harassment allegatio...</td>\n",
       "    </tr>\n",
       "  </tbody>\n",
       "</table>\n",
       "</div>"
      ],
      "text/plain": [
       "                                                text  \\\n",
       "0  Saurav Kant, an alumnus of upGrad and IIIT-B's...   \n",
       "1  Kunal Shah's credit card bill payment platform...   \n",
       "2  New Zealand defeated India by 8 wickets in the...   \n",
       "3  With Aegon Life iTerm Insurance plan, customer...   \n",
       "4  Speaking about the sexual harassment allegatio...   \n",
       "\n",
       "                                               words  \\\n",
       "0  [saurav, kant, alumnus, upgrad, iiit, pg, prog...   \n",
       "1  [kunal, shah, credit, card, bill, payment, pla...   \n",
       "2  [new, zealand, defeated, india, wickets, fourt...   \n",
       "3  [aegon, life, iterm, insurance, plan, customer...   \n",
       "4  [speaking, sexual, harassment, allegations, ra...   \n",
       "\n",
       "                                           word_freq  \\\n",
       "0  {'saurav': 0.3333333333333333, 'kant': 0.33333...   \n",
       "1  {'kunal': 0.3333333333333333, 'shah': 0.333333...   \n",
       "2  {'new': 0.25, 'zealand': 0.25, 'defeated': 0.2...   \n",
       "3  {'aegon': 0.3333333333333333, 'life': 1.0, 'it...   \n",
       "4  {'speaking': 0.3333333333333333, 'sexual': 0.3...   \n",
       "\n",
       "                                               sents  \\\n",
       "0  [Saurav Kant, an alumnus of upGrad and IIIT-B'...   \n",
       "1  [Kunal Shah's credit card bill payment platfor...   \n",
       "2  [New Zealand defeated India by 8 wickets in th...   \n",
       "3  [With Aegon Life iTerm Insurance plan, custome...   \n",
       "4  [Speaking about the sexual harassment allegati...   \n",
       "\n",
       "                                            headline  \\\n",
       "0  [The program and upGrad's 360-degree career su...   \n",
       "1  [Kunal Shah's credit card bill payment platfor...   \n",
       "2  [India lost an international match under Rohit...   \n",
       "3  [Also, customers have options to insure agains...   \n",
       "4  [Speaking about the sexual harassment allegati...   \n",
       "\n",
       "                                           headline1  \n",
       "0  The program and upGrad's 360-degree career sup...  \n",
       "1  Kunal Shah's credit card bill payment platform...  \n",
       "2  India lost an international match under Rohit ...  \n",
       "3  Also, customers have options to insure against...  \n",
       "4  Speaking about the sexual harassment allegatio...  "
      ]
     },
     "execution_count": 348,
     "metadata": {},
     "output_type": "execute_result"
    }
   ],
   "source": [
    "df.head()"
   ]
  },
  {
   "cell_type": "code",
   "execution_count": 356,
   "id": "20139713",
   "metadata": {},
   "outputs": [
    {
     "data": {
      "text/html": [
       "<div>\n",
       "<style scoped>\n",
       "    .dataframe tbody tr th:only-of-type {\n",
       "        vertical-align: middle;\n",
       "    }\n",
       "\n",
       "    .dataframe tbody tr th {\n",
       "        vertical-align: top;\n",
       "    }\n",
       "\n",
       "    .dataframe thead th {\n",
       "        text-align: right;\n",
       "    }\n",
       "</style>\n",
       "<table border=\"1\" class=\"dataframe\">\n",
       "  <thead>\n",
       "    <tr style=\"text-align: right;\">\n",
       "      <th></th>\n",
       "      <th>text</th>\n",
       "      <th>headline1</th>\n",
       "    </tr>\n",
       "  </thead>\n",
       "  <tbody>\n",
       "    <tr>\n",
       "      <th>0</th>\n",
       "      <td>Saurav Kant, an alumnus of upGrad and IIIT-B's...</td>\n",
       "      <td>The program and upGrad's 360-degree career sup...</td>\n",
       "    </tr>\n",
       "    <tr>\n",
       "      <th>1</th>\n",
       "      <td>Kunal Shah's credit card bill payment platform...</td>\n",
       "      <td>Kunal Shah's credit card bill payment platform...</td>\n",
       "    </tr>\n",
       "    <tr>\n",
       "      <th>2</th>\n",
       "      <td>New Zealand defeated India by 8 wickets in the...</td>\n",
       "      <td>India lost an international match under Rohit ...</td>\n",
       "    </tr>\n",
       "    <tr>\n",
       "      <th>3</th>\n",
       "      <td>With Aegon Life iTerm Insurance plan, customer...</td>\n",
       "      <td>Also, customers have options to insure against...</td>\n",
       "    </tr>\n",
       "    <tr>\n",
       "      <th>4</th>\n",
       "      <td>Speaking about the sexual harassment allegatio...</td>\n",
       "      <td>Speaking about the sexual harassment allegatio...</td>\n",
       "    </tr>\n",
       "  </tbody>\n",
       "</table>\n",
       "</div>"
      ],
      "text/plain": [
       "                                                text  \\\n",
       "0  Saurav Kant, an alumnus of upGrad and IIIT-B's...   \n",
       "1  Kunal Shah's credit card bill payment platform...   \n",
       "2  New Zealand defeated India by 8 wickets in the...   \n",
       "3  With Aegon Life iTerm Insurance plan, customer...   \n",
       "4  Speaking about the sexual harassment allegatio...   \n",
       "\n",
       "                                           headline1  \n",
       "0  The program and upGrad's 360-degree career sup...  \n",
       "1  Kunal Shah's credit card bill payment platform...  \n",
       "2  India lost an international match under Rohit ...  \n",
       "3  Also, customers have options to insure against...  \n",
       "4  Speaking about the sexual harassment allegatio...  "
      ]
     },
     "execution_count": 356,
     "metadata": {},
     "output_type": "execute_result"
    }
   ],
   "source": [
    "df.head()"
   ]
  },
  {
   "cell_type": "code",
   "execution_count": 357,
   "id": "3f0ca87c",
   "metadata": {},
   "outputs": [
    {
     "data": {
      "text/plain": [
       "\"Saurav Kant, an alumnus of upGrad and IIIT-B's PG Program in Machine learning and Artificial Intelligence, was a Sr Systems Engineer at Infosys with almost 5 years of work experience. The program and upGrad's 360-degree career support helped him transition to a Data Scientist at Tech Mahindra with 90% salary hike. upGrad's Online Power Learning has powered 3 lakh+ careers.\""
      ]
     },
     "execution_count": 357,
     "metadata": {},
     "output_type": "execute_result"
    }
   ],
   "source": [
    "df['text'][0]"
   ]
  },
  {
   "cell_type": "code",
   "execution_count": 358,
   "id": "c4fd7d2b",
   "metadata": {},
   "outputs": [
    {
     "data": {
      "text/plain": [
       "\"The program and upGrad's 360-degree career support helped him transition to a Data Scientist at Tech Mahindra with 90% salary hike.\""
      ]
     },
     "execution_count": 358,
     "metadata": {},
     "output_type": "execute_result"
    }
   ],
   "source": [
    "df['headline1'][0]"
   ]
  },
  {
   "cell_type": "code",
   "execution_count": 359,
   "id": "a7b2eaa6",
   "metadata": {},
   "outputs": [
    {
     "data": {
      "text/plain": [
       "\"Kunal Shah's credit card bill payment platform, CRED, gave users a chance to win free food from Swiggy for one year. Pranav Kaushik, a Delhi techie, bagged this reward after spending 2000 CRED coins. Users get one CRED coin per rupee of bill paid, which can be used to avail rewards from brands like Ixigo, BookMyShow, UberEats, Cult.Fit and more.\""
      ]
     },
     "execution_count": 359,
     "metadata": {},
     "output_type": "execute_result"
    }
   ],
   "source": [
    "df['text'][1]"
   ]
  },
  {
   "cell_type": "code",
   "execution_count": 360,
   "id": "e95a82f5",
   "metadata": {},
   "outputs": [
    {
     "data": {
      "text/plain": [
       "\"Kunal Shah's credit card bill payment platform, CRED, gave users a chance to win free food from Swiggy for one year.\""
      ]
     },
     "execution_count": 360,
     "metadata": {},
     "output_type": "execute_result"
    }
   ],
   "source": [
    "df['headline1'][1]"
   ]
  },
  {
   "cell_type": "code",
   "execution_count": 361,
   "id": "7bc50258",
   "metadata": {},
   "outputs": [
    {
     "data": {
      "text/plain": [
       "\"New Zealand defeated India by 8 wickets in the fourth ODI at Hamilton on Thursday to win their first match of the five-match ODI series. India lost an international match under Rohit Sharma's captaincy after 12 consecutive victories dating back to March 2018. The match witnessed India getting all out for 92, their seventh lowest total in ODI cricket history.\""
      ]
     },
     "execution_count": 361,
     "metadata": {},
     "output_type": "execute_result"
    }
   ],
   "source": [
    "df['text'][2]"
   ]
  },
  {
   "cell_type": "code",
   "execution_count": 362,
   "id": "abe64336",
   "metadata": {},
   "outputs": [
    {
     "data": {
      "text/plain": [
       "\"India lost an international match under Rohit Sharma's captaincy after 12 consecutive victories dating back to March 2018.\""
      ]
     },
     "execution_count": 362,
     "metadata": {},
     "output_type": "execute_result"
    }
   ],
   "source": [
    "df['headline1'][2]"
   ]
  }
 ],
 "metadata": {
  "kernelspec": {
   "display_name": "Python 3 (ipykernel)",
   "language": "python",
   "name": "python3"
  },
  "language_info": {
   "codemirror_mode": {
    "name": "ipython",
    "version": 3
   },
   "file_extension": ".py",
   "mimetype": "text/x-python",
   "name": "python",
   "nbconvert_exporter": "python",
   "pygments_lexer": "ipython3",
   "version": "3.10.5"
  }
 },
 "nbformat": 4,
 "nbformat_minor": 5
}
